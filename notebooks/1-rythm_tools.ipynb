{
 "cells": [
  {
   "cell_type": "markdown",
   "metadata": {},
   "source": [
    "# Tools definition\n",
    "\n",
    "First, we'll create tools that actually work to do what we want here."
   ]
  },
  {
   "cell_type": "code",
   "execution_count": 1,
   "metadata": {},
   "outputs": [],
   "source": [
    "lyrics = {\n",
    "    \"title\": \"Fading Away\",\n",
    "    \"intro\": [\n",
    "        \"In the silence, I hear your voice\",\n",
    "        \"A whispered reminder of our choice\",\n",
    "        \"To let go, to move on, to lose\",\n",
    "        \"The love we had, the memories we chose\"\n",
    "    ],\n",
    "    \"verse_one\": [\n",
    "        \"We said forever, but forever's come and gone\",\n",
    "        \"And now I'm left to face this empty dawn\",\n",
    "        \"Your smile, a distant memory, a fleeting thought\",\n",
    "        \"I'm searching for a way to heal my heart, to make it stop\"\n",
    "    ],\n",
    "    \"pre_chorus\": [\n",
    "        \"But the pain remains, like an open sore\",\n",
    "        \"A constant reminder of what we had before\",\n",
    "        \"I'm trying to move on, but I'm stuck in this place\",\n",
    "        \"Where love and loss collide, and my heart can't escape\"\n",
    "    ],\n",
    "    \"chorus\": [\n",
    "        \"And I'm fading away, like a ghost in the night\",\n",
    "        \"My heart is breaking, but it's not feeling right\",\n",
    "        \"I'm trying to hold on, but you're slipping through my hands\",\n",
    "        \"Leaving me with nothing but these tears and this pain\"\n",
    "    ],\n",
    "    \"verse_two\": [\n",
    "        \"We said forever, but forever's just a lie\",\n",
    "        \"And now I'm left to wonder why\",\n",
    "        \"You walked away, without a fight\",\n",
    "        \"Leaving me here, to face the dark of night\"\n",
    "    ],\n",
    "    \"outro\": [\n",
    "        \"And I'll keep on fading, into the shadows of my mind\",\n",
    "        \"Where love and loss entwine, and my heart will forever be left behind\",\n",
    "        \"But maybe someday, I'll learn to let go\",\n",
    "        \"And find my way back home, where love will set me free\"\n",
    "    ]\n",
    "}"
   ]
  },
  {
   "cell_type": "markdown",
   "metadata": {},
   "source": [
    "Let's start with the chorus."
   ]
  },
  {
   "cell_type": "code",
   "execution_count": 2,
   "metadata": {},
   "outputs": [
    {
     "data": {
      "text/plain": [
       "[\"And I'm fading away, like a ghost in the night\",\n",
       " \"My heart is breaking, but it's not feeling right\",\n",
       " \"I'm trying to hold on, but you're slipping through my hands\",\n",
       " 'Leaving me with nothing but these tears and this pain']"
      ]
     },
     "execution_count": 2,
     "metadata": {},
     "output_type": "execute_result"
    }
   ],
   "source": [
    "lyrics['chorus']"
   ]
  },
  {
   "cell_type": "code",
   "execution_count": 3,
   "metadata": {},
   "outputs": [],
   "source": [
    "import os\n",
    "os.chdir('..')"
   ]
  },
  {
   "cell_type": "code",
   "execution_count": 83,
   "metadata": {},
   "outputs": [
    {
     "name": "stderr",
     "output_type": "stream",
     "text": [
      "<>:17: SyntaxWarning: invalid escape sequence '\\d'\n",
      "<>:17: SyntaxWarning: invalid escape sequence '\\d'\n",
      "C:\\Users\\Lalasinha\\AppData\\Local\\Temp\\ipykernel_11052\\439697072.py:17: SyntaxWarning: invalid escape sequence '\\d'\n",
      "  re.sub('\\d', '', re.sub(' ', '', p)) for p in phonemes\n"
     ]
    }
   ],
   "source": [
    "from typing import Dict\n",
    "from smolagents import tool\n",
    "from utils.syllable_split import get_syllable_dict\n",
    "import re, string\n",
    "\n",
    "def get_words(verse):\n",
    "    s = verse\n",
    "    regex = re.compile('[%s]' % re.escape(string.punctuation))\n",
    "    verse_no_punct = regex.sub('', s)\n",
    "    preprocessed_verse = verse_no_punct.lower().strip()\n",
    "    words = preprocessed_verse.split()\n",
    "    return words\n",
    "\n",
    "\n",
    "def process_syllables(word, phonemes):\n",
    "    preprocessed_phonemes = [\n",
    "        re.sub('\\d', '', re.sub(' ', '', p)) for p in phonemes\n",
    "    ]\n",
    "    cut_points = [\n",
    "        p[0] for p in preprocessed_phonemes[1:]\n",
    "    ]\n",
    "    final_word = ''\n",
    "    cut_word = word\n",
    "    for cut in cut_points:\n",
    "        if cut in cut_word:\n",
    "            splitted = re.split(cut, cut_word)\n",
    "            rest = [cut + s for s in splitted[1:]]\n",
    "            cut_word = ''.join(rest)\n",
    "            final_word += splitted[0] + '-'\n",
    "    final_word += cut_word\n",
    "    return final_word\n",
    "\n",
    "\n",
    "@tool\n",
    "def divide_syllables(verse: str, syllable_dict: Dict[str, str]) -> Dict[str, int]:\n",
    "    \"\"\"\n",
    "    Divides a verse into syllables.\n",
    "\n",
    "    Args:\n",
    "        verse: A verse of a song.\n",
    "        syllable_dict: the dictionary that maps words to its syllables.\n",
    "    \n",
    "    Returns:\n",
    "        A dictionary with the verse text divided into syllables and syllable count.\n",
    "    \"\"\"\n",
    "    words = get_words(verse)\n",
    "    phonemes = [syllable_dict.get(word, '') for word in words]\n",
    "    syllables = ''\n",
    "    \n",
    "    for i in range(len(words)):\n",
    "        if len(phonemes[i]) == 1:\n",
    "            syllables += words[i] + ' '\n",
    "        else:\n",
    "            syllables += process_syllables(words[i], phonemes[i]) + ' '\n",
    "    syllables = syllables.strip()\n",
    "    syllables_count = syllables.count(' ') + syllables.count('-') + 1\n",
    "    return {\n",
    "        'text': syllables,\n",
    "        'syllables': syllables_count\n",
    "    }"
   ]
  },
  {
   "cell_type": "code",
   "execution_count": 87,
   "metadata": {},
   "outputs": [
    {
     "data": {
      "text/plain": [
       "[{'text': 'and im fa-ding a-way like a ghost in the night', 'syllables': 12},\n",
       " {'text': 'my heart is brea-king but its not fee-ling right', 'syllables': 11},\n",
       " {'text': 'im try-ing to hold on but youre sli-pping through my hands',\n",
       "  'syllables': 13},\n",
       " {'text': 'lea-ving me with no-thing but these tears and this pain',\n",
       "  'syllables': 12}]"
      ]
     },
     "execution_count": 87,
     "metadata": {},
     "output_type": "execute_result"
    }
   ],
   "source": [
    "syllable_dict = get_syllable_dict()\n",
    "verse_syllables = []\n",
    "\n",
    "for verse in lyrics['chorus']:\n",
    "    verse_syllables.append(divide_syllables(verse, syllable_dict))\n",
    "\n",
    "verse_syllables"
   ]
  },
  {
   "cell_type": "code",
   "execution_count": 136,
   "metadata": {},
   "outputs": [],
   "source": [
    "import numpy as np\n",
    "\n",
    "def get_mean_syllables_per_stanza(stanza):\n",
    "    syllable_dict = get_syllable_dict()\n",
    "\n",
    "    stanza_syllables = []\n",
    "    for verse in stanza:\n",
    "        stanza_syllables.append(\n",
    "            divide_syllables(verse, syllable_dict)\n",
    "        )\n",
    "    \n",
    "    syllables_in_stanza = [\n",
    "        verse['syllables'] for verse in stanza_syllables\n",
    "    ]\n",
    "\n",
    "    mean_syllables_per_stanza = np.round(\n",
    "        np.mean(syllables_in_stanza)\n",
    "    )\n",
    "\n",
    "    return mean_syllables_per_stanza\n",
    "\n",
    "\n",
    "def get_possible_time_signatures(stanza):\n",
    "    mean_syllables = get_mean_syllables_per_stanza(stanza)\n",
    "    signatures = {\n",
    "        2: \"2/4\",\n",
    "        3: \"3/4\",\n",
    "        4: \"4/4\",\n",
    "        6: \"6/8\",\n",
    "        9: \"9/8\",\n",
    "        12: \"12/8\"\n",
    "    }\n",
    "\n",
    "    answer = []\n",
    "    for k in signatures.keys():\n",
    "        if mean_syllables%k == 0:\n",
    "            answer.append(signatures[k])\n",
    "    \n",
    "    return answer\n",
    "\n",
    "\n",
    "def get_number_of_compasses(stanza, time_signature):\n",
    "    mean_syllables = get_mean_syllables_per_stanza(stanza)\n",
    "    verses = len(stanza)\n",
    "    number_of_notes, type_of_notes = time_signature.split('/')\n",
    "    note_type = int(int(type_of_notes)/4)\n",
    "    compasses = round(mean_syllables/float(number_of_notes))\n",
    "    \n",
    "    print(compasses, 'compasses per verse')\n",
    "    print(number_of_notes, '1/'+str(note_type), 'notes per compass')\n",
    "    print(verses*compasses, 'compasses in total')"
   ]
  },
  {
   "cell_type": "code",
   "execution_count": 138,
   "metadata": {},
   "outputs": [
    {
     "name": "stdout",
     "output_type": "stream",
     "text": [
      "3 compasses per verse\n",
      "4 1/1 notes per compass\n",
      "12 compasses in total\n"
     ]
    }
   ],
   "source": [
    "get_number_of_compasses(lyrics['chorus'], '4/4')"
   ]
  }
 ],
 "metadata": {
  "kernelspec": {
   "display_name": "env",
   "language": "python",
   "name": "python3"
  },
  "language_info": {
   "codemirror_mode": {
    "name": "ipython",
    "version": 3
   },
   "file_extension": ".py",
   "mimetype": "text/x-python",
   "name": "python",
   "nbconvert_exporter": "python",
   "pygments_lexer": "ipython3",
   "version": "3.12.10"
  }
 },
 "nbformat": 4,
 "nbformat_minor": 2
}
