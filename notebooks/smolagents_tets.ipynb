{
 "cells": [
  {
   "cell_type": "code",
   "execution_count": null,
   "metadata": {},
   "outputs": [
    {
     "name": "stderr",
     "output_type": "stream",
     "text": [
      "c:\\Users\\Laís\\Documents\\Projetos\\llm-agents\\env\\Lib\\site-packages\\tqdm\\auto.py:21: TqdmWarning: IProgress not found. Please update jupyter and ipywidgets. See https://ipywidgets.readthedocs.io/en/stable/user_install.html\n",
      "  from .autonotebook import tqdm as notebook_tqdm\n"
     ]
    }
   ],
   "source": [
    "from smolagents import LiteLLMModel\n",
    "\n",
    "model = LiteLLMModel(\n",
    "    model_id=\"ollama_chat/qwen2:7b\",  # Or try other Ollama-supported models\n",
    "    api_base=\"http://127.0.0.1:11434\",  # Default Ollama local server\n",
    "    num_ctx=8192,\n",
    ")"
   ]
  },
  {
   "cell_type": "code",
   "execution_count": 2,
   "metadata": {},
   "outputs": [
    {
     "data": {
      "text/html": [
       "<pre style=\"white-space:pre;overflow-x:auto;line-height:normal;font-family:Menlo,'DejaVu Sans Mono',consolas,'Courier New',monospace\"><span style=\"color: #d4b702; text-decoration-color: #d4b702\">╭──────────────────────────────────────────────────── </span><span style=\"color: #d4b702; text-decoration-color: #d4b702; font-weight: bold\">New run</span><span style=\"color: #d4b702; text-decoration-color: #d4b702\"> ────────────────────────────────────────────────────╮</span>\n",
       "<span style=\"color: #d4b702; text-decoration-color: #d4b702\">│</span>                                                                                                                 <span style=\"color: #d4b702; text-decoration-color: #d4b702\">│</span>\n",
       "<span style=\"color: #d4b702; text-decoration-color: #d4b702\">│</span> <span style=\"font-weight: bold\">Search for the most common lyrics structures in pop music (e.g. intro, verse 1, pre-chorus, chorus, etc)</span>        <span style=\"color: #d4b702; text-decoration-color: #d4b702\">│</span>\n",
       "<span style=\"color: #d4b702; text-decoration-color: #d4b702\">│</span>                                                                                                                 <span style=\"color: #d4b702; text-decoration-color: #d4b702\">│</span>\n",
       "<span style=\"color: #d4b702; text-decoration-color: #d4b702\">╰─ LiteLLMModel - ollama_chat/qwen2:7b ───────────────────────────────────────────────────────────────────────────╯</span>\n",
       "</pre>\n"
      ],
      "text/plain": [
       "\u001b[38;2;212;183;2m╭─\u001b[0m\u001b[38;2;212;183;2m───────────────────────────────────────────────────\u001b[0m\u001b[38;2;212;183;2m \u001b[0m\u001b[1;38;2;212;183;2mNew run\u001b[0m\u001b[38;2;212;183;2m \u001b[0m\u001b[38;2;212;183;2m───────────────────────────────────────────────────\u001b[0m\u001b[38;2;212;183;2m─╮\u001b[0m\n",
       "\u001b[38;2;212;183;2m│\u001b[0m                                                                                                                 \u001b[38;2;212;183;2m│\u001b[0m\n",
       "\u001b[38;2;212;183;2m│\u001b[0m \u001b[1mSearch for the most common lyrics structures in pop music (e.g. intro, verse 1, pre-chorus, chorus, etc)\u001b[0m        \u001b[38;2;212;183;2m│\u001b[0m\n",
       "\u001b[38;2;212;183;2m│\u001b[0m                                                                                                                 \u001b[38;2;212;183;2m│\u001b[0m\n",
       "\u001b[38;2;212;183;2m╰─\u001b[0m\u001b[38;2;212;183;2m LiteLLMModel - ollama_chat/qwen2:7b \u001b[0m\u001b[38;2;212;183;2m──────────────────────────────────────────────────────────────────────────\u001b[0m\u001b[38;2;212;183;2m─╯\u001b[0m\n"
      ]
     },
     "metadata": {},
     "output_type": "display_data"
    },
    {
     "data": {
      "text/html": [
       "<pre style=\"white-space:pre;overflow-x:auto;line-height:normal;font-family:Menlo,'DejaVu Sans Mono',consolas,'Courier New',monospace\"><span style=\"color: #d4b702; text-decoration-color: #d4b702\">━━━━━━━━━━━━━━━━━━━━━━━━━━━━━━━━━━━━━━━━━━━━━━━━━━━━━ </span><span style=\"font-weight: bold\">Step </span><span style=\"color: #008080; text-decoration-color: #008080; font-weight: bold\">1</span><span style=\"color: #d4b702; text-decoration-color: #d4b702\"> ━━━━━━━━━━━━━━━━━━━━━━━━━━━━━━━━━━━━━━━━━━━━━━━━━━━━━━</span>\n",
       "</pre>\n"
      ],
      "text/plain": [
       "\u001b[38;2;212;183;2m━━━━━━━━━━━━━━━━━━━━━━━━━━━━━━━━━━━━━━━━━━━━━━━━━━━━━ \u001b[0m\u001b[1mStep \u001b[0m\u001b[1;36m1\u001b[0m\u001b[38;2;212;183;2m ━━━━━━━━━━━━━━━━━━━━━━━━━━━━━━━━━━━━━━━━━━━━━━━━━━━━━━\u001b[0m\n"
      ]
     },
     "metadata": {},
     "output_type": "display_data"
    },
    {
     "data": {
      "text/html": [
       "<pre style=\"white-space:pre;overflow-x:auto;line-height:normal;font-family:Menlo,'DejaVu Sans Mono',consolas,'Courier New',monospace\"> ─ <span style=\"font-weight: bold\">Executing parsed code:</span> ──────────────────────────────────────────────────────────────────────────────────────── \n",
       "  <span style=\"color: #f8f8f2; text-decoration-color: #f8f8f2; background-color: #272822\">search_result </span><span style=\"color: #ff4689; text-decoration-color: #ff4689; background-color: #272822\">=</span><span style=\"color: #f8f8f2; text-decoration-color: #f8f8f2; background-color: #272822\"> web_search(query</span><span style=\"color: #ff4689; text-decoration-color: #ff4689; background-color: #272822\">=</span><span style=\"color: #e6db74; text-decoration-color: #e6db74; background-color: #272822\">\"most common lyrics structures in pop music\"</span><span style=\"color: #f8f8f2; text-decoration-color: #f8f8f2; background-color: #272822\">)</span><span style=\"background-color: #272822\">                                 </span>  \n",
       "  <span style=\"color: #f8f8f2; text-decoration-color: #f8f8f2; background-color: #272822\">print(search_result)</span><span style=\"background-color: #272822\">                                                                                           </span>  \n",
       " ───────────────────────────────────────────────────────────────────────────────────────────────────────────────── \n",
       "</pre>\n"
      ],
      "text/plain": [
       " ─ \u001b[1mExecuting parsed code:\u001b[0m ──────────────────────────────────────────────────────────────────────────────────────── \n",
       "  \u001b[38;2;248;248;242;48;2;39;40;34msearch_result\u001b[0m\u001b[38;2;248;248;242;48;2;39;40;34m \u001b[0m\u001b[38;2;255;70;137;48;2;39;40;34m=\u001b[0m\u001b[38;2;248;248;242;48;2;39;40;34m \u001b[0m\u001b[38;2;248;248;242;48;2;39;40;34mweb_search\u001b[0m\u001b[38;2;248;248;242;48;2;39;40;34m(\u001b[0m\u001b[38;2;248;248;242;48;2;39;40;34mquery\u001b[0m\u001b[38;2;255;70;137;48;2;39;40;34m=\u001b[0m\u001b[38;2;230;219;116;48;2;39;40;34m\"\u001b[0m\u001b[38;2;230;219;116;48;2;39;40;34mmost common lyrics structures in pop music\u001b[0m\u001b[38;2;230;219;116;48;2;39;40;34m\"\u001b[0m\u001b[38;2;248;248;242;48;2;39;40;34m)\u001b[0m\u001b[48;2;39;40;34m                                 \u001b[0m  \n",
       "  \u001b[38;2;248;248;242;48;2;39;40;34mprint\u001b[0m\u001b[38;2;248;248;242;48;2;39;40;34m(\u001b[0m\u001b[38;2;248;248;242;48;2;39;40;34msearch_result\u001b[0m\u001b[38;2;248;248;242;48;2;39;40;34m)\u001b[0m\u001b[48;2;39;40;34m                                                                                           \u001b[0m  \n",
       " ───────────────────────────────────────────────────────────────────────────────────────────────────────────────── \n"
      ]
     },
     "metadata": {},
     "output_type": "display_data"
    },
    {
     "data": {
      "text/html": [
       "<pre style=\"white-space:pre;overflow-x:auto;line-height:normal;font-family:Menlo,'DejaVu Sans Mono',consolas,'Courier New',monospace\"><span style=\"font-weight: bold\">Execution logs:</span>\n",
       "## Search Results\n",
       "\n",
       "[PDF](https://mastering.com/wp-content/uploads/2019/02/SONG-STRUCTURE-Cheat-Sheet.pdf)\n",
       "Verse - Chorus - Verse - Chorus - Bridge - Chorus ABABCB This is the most common song structure in pop music.\n",
       "\n",
       "[Examples Of Popular Song Structures - Sandy Music \n",
       "Lab](https://sandymusiclab.com/examples-of-popular-song-structures/)\n",
       "The most common structure for a song is the verse-chorus structure, also known as A-B structure, where the verse \n",
       "and chorus alternate throughout the song. This structure is used in a variety of genres, from pop to rock to \n",
       "country, and is considered a standard format for many hit songs.\n",
       "\n",
       "[How to Structure a Pop Song - AIMM](https://aimm.edu/blog/how-to-structure-a-pop-song)\n",
       "Discover the essentials of pop song structure and learn how to craft catchy hooks and engaging choruses to make \n",
       "your music stand out.\n",
       "\n",
       "[Songwriting 101: Learn Common Song Structures - \n",
       "MasterClass](https://www.masterclass.com/articles/songwriting-101-learn-common-song-structures)\n",
       "Hit songs and pop songs tend to follow the standard structure while jam bands and experimental musicians might \n",
       "diverge from the formula. If a song sounds familiar to us when we hear it for the first time, it's because our ears\n",
       "have been trained to recognize the most commonly used song structures.\n",
       "\n",
       "[Learn Common Song Structures (With Examples) - Composer \n",
       "Focus](https://composerfocus.com/learn-common-song-structures-with-examples/)\n",
       "Creating EDM songs can be a challenge, but understanding the various popular structures is an important part of the\n",
       "songwriting process. With these popular EDM song structures, producers can experiment with different sounds, \n",
       "rhythms, and tones to create unique and captivating tracks.\n",
       "\n",
       "[Pop Song Structure 101: How to Create Super Addicting Tracks - Unison](https://unison.audio/pop-song-structure/)\n",
       "Pop is one of the most popular and influential genres out there, made up of catchy melodies, relatable lyrics, and \n",
       "dynamic arrangements. As an artist or producer, understanding the proper pop song structure is the key to getting \n",
       "your tracks to the top of everyone's playlists (or the charts). It can help you create show-stopping songs and \n",
       "successfully capture your audience's attention and ...\n",
       "\n",
       "[Song Structure: The Ultimate Guide (With Examples) - eMastered](https://emastered.com/blog/song-structure)\n",
       "Before we break down well-known song structures used in pop music, rock music, and beyond, let's review the \n",
       "individual components that make music as we know it: Understanding the Components of a Song Each of these song \n",
       "elements fit into the overarching structure of a song.\n",
       "\n",
       "[Basic Pop Song Structure: The Easy Hack for New Songwriters - \n",
       "Overtune](https://www.overtune.com/blog/basic-pop-song-structure-easy-hack-for-new-songwriters)\n",
       "Master the basic pop song structure in this simple guide for new songwriters. Learn how verses, choruses, and \n",
       "bridges shape music, sparking creativity and expression.\n",
       "\n",
       "[Pop Song Structuring: Verse, Chorus, Bridge and More \n",
       "Explained](https://www.bax-shop.co.uk/blog/songwriting-composing/pop-song-structuring-verse-chorus-bridge-and-more-\n",
       "explained/)\n",
       "Worth Knowing Classic Pop Song Structures Here are two examples of 'classically'-structured pop songs. Remember \n",
       "that the bridge or an instrumental part often replaces the third verse. Example 1: Intro Verse 1 Chorus Verse 2 \n",
       "Chorus Instrumental (usually the same chord progression as the verse) Chorus Outro (optional) Example 2: Intro \n",
       "Verse 1 Chorus Verse 2 Chorus Bridge (usually a different ...\n",
       "\n",
       "[Cracking the Code of Pop Music Song Structure](https://fourmusicblog.com/pop-music-song-structure/)\n",
       "Whether you're a music enthusiast listening for the patterns or an aspiring songwriter looking to craft the next \n",
       "big hit, understanding pop song structure is essential. This guide will break down the anatomy of a pop song, \n",
       "exploring traditional structures, modern trends, and the elements that make every verse and chorus unforgettable.\n",
       "\n",
       "Out: None\n",
       "</pre>\n"
      ],
      "text/plain": [
       "\u001b[1mExecution logs:\u001b[0m\n",
       "## Search Results\n",
       "\n",
       "[PDF](https://mastering.com/wp-content/uploads/2019/02/SONG-STRUCTURE-Cheat-Sheet.pdf)\n",
       "Verse - Chorus - Verse - Chorus - Bridge - Chorus ABABCB This is the most common song structure in pop music.\n",
       "\n",
       "[Examples Of Popular Song Structures - Sandy Music \n",
       "Lab](https://sandymusiclab.com/examples-of-popular-song-structures/)\n",
       "The most common structure for a song is the verse-chorus structure, also known as A-B structure, where the verse \n",
       "and chorus alternate throughout the song. This structure is used in a variety of genres, from pop to rock to \n",
       "country, and is considered a standard format for many hit songs.\n",
       "\n",
       "[How to Structure a Pop Song - AIMM](https://aimm.edu/blog/how-to-structure-a-pop-song)\n",
       "Discover the essentials of pop song structure and learn how to craft catchy hooks and engaging choruses to make \n",
       "your music stand out.\n",
       "\n",
       "[Songwriting 101: Learn Common Song Structures - \n",
       "MasterClass](https://www.masterclass.com/articles/songwriting-101-learn-common-song-structures)\n",
       "Hit songs and pop songs tend to follow the standard structure while jam bands and experimental musicians might \n",
       "diverge from the formula. If a song sounds familiar to us when we hear it for the first time, it's because our ears\n",
       "have been trained to recognize the most commonly used song structures.\n",
       "\n",
       "[Learn Common Song Structures (With Examples) - Composer \n",
       "Focus](https://composerfocus.com/learn-common-song-structures-with-examples/)\n",
       "Creating EDM songs can be a challenge, but understanding the various popular structures is an important part of the\n",
       "songwriting process. With these popular EDM song structures, producers can experiment with different sounds, \n",
       "rhythms, and tones to create unique and captivating tracks.\n",
       "\n",
       "[Pop Song Structure 101: How to Create Super Addicting Tracks - Unison](https://unison.audio/pop-song-structure/)\n",
       "Pop is one of the most popular and influential genres out there, made up of catchy melodies, relatable lyrics, and \n",
       "dynamic arrangements. As an artist or producer, understanding the proper pop song structure is the key to getting \n",
       "your tracks to the top of everyone's playlists (or the charts). It can help you create show-stopping songs and \n",
       "successfully capture your audience's attention and ...\n",
       "\n",
       "[Song Structure: The Ultimate Guide (With Examples) - eMastered](https://emastered.com/blog/song-structure)\n",
       "Before we break down well-known song structures used in pop music, rock music, and beyond, let's review the \n",
       "individual components that make music as we know it: Understanding the Components of a Song Each of these song \n",
       "elements fit into the overarching structure of a song.\n",
       "\n",
       "[Basic Pop Song Structure: The Easy Hack for New Songwriters - \n",
       "Overtune](https://www.overtune.com/blog/basic-pop-song-structure-easy-hack-for-new-songwriters)\n",
       "Master the basic pop song structure in this simple guide for new songwriters. Learn how verses, choruses, and \n",
       "bridges shape music, sparking creativity and expression.\n",
       "\n",
       "[Pop Song Structuring: Verse, Chorus, Bridge and More \n",
       "Explained](https://www.bax-shop.co.uk/blog/songwriting-composing/pop-song-structuring-verse-chorus-bridge-and-more-\n",
       "explained/)\n",
       "Worth Knowing Classic Pop Song Structures Here are two examples of 'classically'-structured pop songs. Remember \n",
       "that the bridge or an instrumental part often replaces the third verse. Example 1: Intro Verse 1 Chorus Verse 2 \n",
       "Chorus Instrumental (usually the same chord progression as the verse) Chorus Outro (optional) Example 2: Intro \n",
       "Verse 1 Chorus Verse 2 Chorus Bridge (usually a different ...\n",
       "\n",
       "[Cracking the Code of Pop Music Song Structure](https://fourmusicblog.com/pop-music-song-structure/)\n",
       "Whether you're a music enthusiast listening for the patterns or an aspiring songwriter looking to craft the next \n",
       "big hit, understanding pop song structure is essential. This guide will break down the anatomy of a pop song, \n",
       "exploring traditional structures, modern trends, and the elements that make every verse and chorus unforgettable.\n",
       "\n",
       "Out: None\n"
      ]
     },
     "metadata": {},
     "output_type": "display_data"
    },
    {
     "data": {
      "text/html": [
       "<pre style=\"white-space:pre;overflow-x:auto;line-height:normal;font-family:Menlo,'DejaVu Sans Mono',consolas,'Courier New',monospace\"><span style=\"color: #7f7f7f; text-decoration-color: #7f7f7f\">[Step 1: Duration 129.77 seconds| Input tokens: 2,066 | Output tokens: 55]</span>\n",
       "</pre>\n"
      ],
      "text/plain": [
       "\u001b[2m[Step 1: Duration 129.77 seconds| Input tokens: 2,066 | Output tokens: 55]\u001b[0m\n"
      ]
     },
     "metadata": {},
     "output_type": "display_data"
    },
    {
     "data": {
      "text/html": [
       "<pre style=\"white-space:pre;overflow-x:auto;line-height:normal;font-family:Menlo,'DejaVu Sans Mono',consolas,'Courier New',monospace\"><span style=\"color: #d4b702; text-decoration-color: #d4b702\">━━━━━━━━━━━━━━━━━━━━━━━━━━━━━━━━━━━━━━━━━━━━━━━━━━━━━ </span><span style=\"font-weight: bold\">Step </span><span style=\"color: #008080; text-decoration-color: #008080; font-weight: bold\">2</span><span style=\"color: #d4b702; text-decoration-color: #d4b702\"> ━━━━━━━━━━━━━━━━━━━━━━━━━━━━━━━━━━━━━━━━━━━━━━━━━━━━━━</span>\n",
       "</pre>\n"
      ],
      "text/plain": [
       "\u001b[38;2;212;183;2m━━━━━━━━━━━━━━━━━━━━━━━━━━━━━━━━━━━━━━━━━━━━━━━━━━━━━ \u001b[0m\u001b[1mStep \u001b[0m\u001b[1;36m2\u001b[0m\u001b[38;2;212;183;2m ━━━━━━━━━━━━━━━━━━━━━━━━━━━━━━━━━━━━━━━━━━━━━━━━━━━━━━\u001b[0m\n"
      ]
     },
     "metadata": {},
     "output_type": "display_data"
    },
    {
     "data": {
      "text/html": [
       "<pre style=\"white-space:pre;overflow-x:auto;line-height:normal;font-family:Menlo,'DejaVu Sans Mono',consolas,'Courier New',monospace\"> ─ <span style=\"font-weight: bold\">Executing parsed code:</span> ──────────────────────────────────────────────────────────────────────────────────────── \n",
       "  <span style=\"color: #959077; text-decoration-color: #959077; background-color: #272822\"># Compile findings into a single response</span><span style=\"background-color: #272822\">                                                                      </span>  \n",
       "  <span style=\"color: #f8f8f2; text-decoration-color: #f8f8f2; background-color: #272822\">findings </span><span style=\"color: #ff4689; text-decoration-color: #ff4689; background-color: #272822\">=</span><span style=\"color: #f8f8f2; text-decoration-color: #f8f8f2; background-color: #272822\"> </span><span style=\"color: #e6db74; text-decoration-color: #e6db74; background-color: #272822\">\"\"\"</span><span style=\"background-color: #272822\">                                                                                                 </span>  \n",
       "  <span style=\"color: #e6db74; text-decoration-color: #e6db74; background-color: #272822\">The most common song structures in pop music include:</span><span style=\"background-color: #272822\">                                                          </span>  \n",
       "  <span style=\"background-color: #272822\">                                                                                                               </span>  \n",
       "  <span style=\"color: #e6db74; text-decoration-color: #e6db74; background-color: #272822\">1. **Verse-Chorus Structure**: Also known as the A-B structure, this involves alternating between the verse and</span>  \n",
       "  <span style=\"color: #e6db74; text-decoration-color: #e6db74; background-color: #272822\">chorus throughout the song.</span><span style=\"background-color: #272822\">                                                                                    </span>  \n",
       "  <span style=\"color: #e6db74; text-decoration-color: #e6db74; background-color: #272822\">2. **ABABCB Structure**: Consists of an intro (A), Verse 1 (B), Chorus (C), Verse 2 (B), Pre-Chorus or Bridge </span><span style=\"background-color: #272822\"> </span>  \n",
       "  <span style=\"color: #e6db74; text-decoration-color: #e6db74; background-color: #272822\">(Pre), and Chorus again (C).</span><span style=\"background-color: #272822\">                                                                                   </span>  \n",
       "  <span style=\"color: #e6db74; text-decoration-color: #e6db74; background-color: #272822\">3. **4-Verse Format**: Typically includes a bridge that often mirrors the chord progression of the verses.</span><span style=\"background-color: #272822\">     </span>  \n",
       "  <span style=\"background-color: #272822\">                                                                                                               </span>  \n",
       "  <span style=\"color: #e6db74; text-decoration-color: #e6db74; background-color: #272822\">These structures are foundational in pop music and help create familiarity for listeners.\"\"\"</span><span style=\"background-color: #272822\">                   </span>  \n",
       "  <span style=\"color: #f8f8f2; text-decoration-color: #f8f8f2; background-color: #272822\">final_answer(findings)</span><span style=\"background-color: #272822\">                                                                                         </span>  \n",
       " ───────────────────────────────────────────────────────────────────────────────────────────────────────────────── \n",
       "</pre>\n"
      ],
      "text/plain": [
       " ─ \u001b[1mExecuting parsed code:\u001b[0m ──────────────────────────────────────────────────────────────────────────────────────── \n",
       "  \u001b[38;2;149;144;119;48;2;39;40;34m# Compile findings into a single response\u001b[0m\u001b[48;2;39;40;34m                                                                      \u001b[0m  \n",
       "  \u001b[38;2;248;248;242;48;2;39;40;34mfindings\u001b[0m\u001b[38;2;248;248;242;48;2;39;40;34m \u001b[0m\u001b[38;2;255;70;137;48;2;39;40;34m=\u001b[0m\u001b[38;2;248;248;242;48;2;39;40;34m \u001b[0m\u001b[38;2;230;219;116;48;2;39;40;34m\"\"\"\u001b[0m\u001b[48;2;39;40;34m                                                                                                 \u001b[0m  \n",
       "  \u001b[38;2;230;219;116;48;2;39;40;34mThe most common song structures in pop music include:\u001b[0m\u001b[48;2;39;40;34m                                                          \u001b[0m  \n",
       "  \u001b[48;2;39;40;34m                                                                                                               \u001b[0m  \n",
       "  \u001b[38;2;230;219;116;48;2;39;40;34m1. **Verse-Chorus Structure**: Also known as the A-B structure, this involves alternating between the verse and\u001b[0m  \n",
       "  \u001b[38;2;230;219;116;48;2;39;40;34mchorus throughout the song.\u001b[0m\u001b[48;2;39;40;34m                                                                                    \u001b[0m  \n",
       "  \u001b[38;2;230;219;116;48;2;39;40;34m2. **ABABCB Structure**: Consists of an intro (A), Verse 1 (B), Chorus (C), Verse 2 (B), Pre-Chorus or Bridge \u001b[0m\u001b[48;2;39;40;34m \u001b[0m  \n",
       "  \u001b[38;2;230;219;116;48;2;39;40;34m(Pre), and Chorus again (C).\u001b[0m\u001b[48;2;39;40;34m                                                                                   \u001b[0m  \n",
       "  \u001b[38;2;230;219;116;48;2;39;40;34m3. **4-Verse Format**: Typically includes a bridge that often mirrors the chord progression of the verses.\u001b[0m\u001b[48;2;39;40;34m     \u001b[0m  \n",
       "  \u001b[48;2;39;40;34m                                                                                                               \u001b[0m  \n",
       "  \u001b[38;2;230;219;116;48;2;39;40;34mThese structures are foundational in pop music and help create familiarity for listeners.\u001b[0m\u001b[38;2;230;219;116;48;2;39;40;34m\"\"\"\u001b[0m\u001b[48;2;39;40;34m                   \u001b[0m  \n",
       "  \u001b[38;2;248;248;242;48;2;39;40;34mfinal_answer\u001b[0m\u001b[38;2;248;248;242;48;2;39;40;34m(\u001b[0m\u001b[38;2;248;248;242;48;2;39;40;34mfindings\u001b[0m\u001b[38;2;248;248;242;48;2;39;40;34m)\u001b[0m\u001b[48;2;39;40;34m                                                                                         \u001b[0m  \n",
       " ───────────────────────────────────────────────────────────────────────────────────────────────────────────────── \n"
      ]
     },
     "metadata": {},
     "output_type": "display_data"
    },
    {
     "data": {
      "text/html": [
       "<pre style=\"white-space:pre;overflow-x:auto;line-height:normal;font-family:Menlo,'DejaVu Sans Mono',consolas,'Courier New',monospace\"><span style=\"color: #d4b702; text-decoration-color: #d4b702; font-weight: bold\">Out - Final answer: </span>\n",
       "<span style=\"color: #d4b702; text-decoration-color: #d4b702; font-weight: bold\">The most common song structures in pop music include:</span>\n",
       "\n",
       "<span style=\"color: #d4b702; text-decoration-color: #d4b702; font-weight: bold\">1. **Verse-Chorus Structure**: Also known as the A-B structure, this involves alternating between the verse and </span>\n",
       "<span style=\"color: #d4b702; text-decoration-color: #d4b702; font-weight: bold\">chorus throughout the song.</span>\n",
       "<span style=\"color: #d4b702; text-decoration-color: #d4b702; font-weight: bold\">2. **ABABCB Structure**: Consists of an intro (A), Verse 1 (B), Chorus (C), Verse 2 (B), Pre-Chorus or Bridge </span>\n",
       "<span style=\"color: #d4b702; text-decoration-color: #d4b702; font-weight: bold\">(Pre), and Chorus again (C).</span>\n",
       "<span style=\"color: #d4b702; text-decoration-color: #d4b702; font-weight: bold\">3. **4-Verse Format**: Typically includes a bridge that often mirrors the chord progression of the verses.</span>\n",
       "\n",
       "<span style=\"color: #d4b702; text-decoration-color: #d4b702; font-weight: bold\">These structures are foundational in pop music and help create familiarity for listeners.</span>\n",
       "</pre>\n"
      ],
      "text/plain": [
       "\u001b[1;38;2;212;183;2mOut - Final answer: \u001b[0m\n",
       "\u001b[1;38;2;212;183;2mThe most common song structures in pop music include:\u001b[0m\n",
       "\n",
       "\u001b[1;38;2;212;183;2m1. **Verse-Chorus Structure**: Also known as the A-B structure, this involves alternating between the verse and \u001b[0m\n",
       "\u001b[1;38;2;212;183;2mchorus throughout the song.\u001b[0m\n",
       "\u001b[1;38;2;212;183;2m2. **ABABCB Structure**: Consists of an intro (A), Verse 1 (B), Chorus (C), Verse 2 (B), Pre-Chorus or Bridge \u001b[0m\n",
       "\u001b[1;38;2;212;183;2m(Pre), and Chorus again (C).\u001b[0m\n",
       "\u001b[1;38;2;212;183;2m3. **4-Verse Format**: Typically includes a bridge that often mirrors the chord progression of the verses.\u001b[0m\n",
       "\n",
       "\u001b[1;38;2;212;183;2mThese structures are foundational in pop music and help create familiarity for listeners.\u001b[0m\n"
      ]
     },
     "metadata": {},
     "output_type": "display_data"
    },
    {
     "data": {
      "text/html": [
       "<pre style=\"white-space:pre;overflow-x:auto;line-height:normal;font-family:Menlo,'DejaVu Sans Mono',consolas,'Courier New',monospace\"><span style=\"color: #7f7f7f; text-decoration-color: #7f7f7f\">[Step 2: Duration 150.52 seconds| Input tokens: 5,115 | Output tokens: 263]</span>\n",
       "</pre>\n"
      ],
      "text/plain": [
       "\u001b[2m[Step 2: Duration 150.52 seconds| Input tokens: 5,115 | Output tokens: 263]\u001b[0m\n"
      ]
     },
     "metadata": {},
     "output_type": "display_data"
    },
    {
     "data": {
      "text/plain": [
       "'\\nThe most common song structures in pop music include:\\n\\n1. **Verse-Chorus Structure**: Also known as the A-B structure, this involves alternating between the verse and chorus throughout the song.\\n2. **ABABCB Structure**: Consists of an intro (A), Verse 1 (B), Chorus (C), Verse 2 (B), Pre-Chorus or Bridge (Pre), and Chorus again (C).\\n3. **4-Verse Format**: Typically includes a bridge that often mirrors the chord progression of the verses.\\n\\nThese structures are foundational in pop music and help create familiarity for listeners.'"
      ]
     },
     "execution_count": 2,
     "metadata": {},
     "output_type": "execute_result"
    }
   ],
   "source": [
    "from smolagents import CodeAgent, DuckDuckGoSearchTool\n",
    "\n",
    "agent = CodeAgent(tools=[DuckDuckGoSearchTool()], model=model)\n",
    "\n",
    "agent.run(\"Search for the most common lyrics structures in pop music (e.g. intro, verse 1, pre-chorus, chorus, etc)\")"
   ]
  }
 ],
 "metadata": {
  "kernelspec": {
   "display_name": "env",
   "language": "python",
   "name": "python3"
  },
  "language_info": {
   "codemirror_mode": {
    "name": "ipython",
    "version": 3
   },
   "file_extension": ".py",
   "mimetype": "text/x-python",
   "name": "python",
   "nbconvert_exporter": "python",
   "pygments_lexer": "ipython3",
   "version": "3.11.9"
  }
 },
 "nbformat": 4,
 "nbformat_minor": 2
}
